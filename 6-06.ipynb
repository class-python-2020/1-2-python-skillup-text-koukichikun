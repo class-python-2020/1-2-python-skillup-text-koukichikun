{
 "metadata": {
  "language_info": {
   "codemirror_mode": {
    "name": "ipython",
    "version": 3
   },
   "file_extension": ".py",
   "mimetype": "text/x-python",
   "name": "python",
   "nbconvert_exporter": "python",
   "pygments_lexer": "ipython3",
   "version": "3.8.2-final"
  },
  "orig_nbformat": 2,
  "kernelspec": {
   "name": "python_defaultSpec_1598184792480",
   "display_name": "Python 3.8.2 32-bit"
  }
 },
 "nbformat": 4,
 "nbformat_minor": 2,
 "cells": [
  {
   "cell_type": "code",
   "execution_count": 1,
   "metadata": {},
   "outputs": [
    {
     "output_type": "execute_result",
     "data": {
      "text/plain": "3.141592653589793"
     },
     "metadata": {},
     "execution_count": 1
    }
   ],
   "source": [
    "import math\n",
    "math.pi"
   ]
  },
  {
   "cell_type": "code",
   "execution_count": 2,
   "metadata": {
    "tags": []
   },
   "outputs": [
    {
     "output_type": "stream",
     "name": "stdout",
     "text": "['__builtins__', '__cached__', '__doc__', '__file__', '__loader__', '__name__', '__package__', '__spec__', 'func']\n"
    }
   ],
   "source": [
    "import my_module\n",
    "my_module_attri=dir(my_module)\n",
    "print(my_module_attri)"
   ]
  },
  {
   "cell_type": "code",
   "execution_count": 4,
   "metadata": {
    "tags": []
   },
   "outputs": [
    {
     "output_type": "stream",
     "name": "stdout",
     "text": "in the global    : initial initial initial initial\nafter local  : test    test    test    test   \nafter nonlocal : test    test    nonlocal test   \nafter global : test    test    nonlocal test   \nafter func call: initial initial initial global  \n"
    }
   ],
   "source": [
    "def scope_test():\n",
    "    def do_local():\n",
    "        s1=\"local   \"\n",
    "    def do_nonlocal():\n",
    "        nonlocal s2\n",
    "        s2=\"nonlocal\"\n",
    "    def do_global():\n",
    "        global s3\n",
    "        s3=\"global  \"\n",
    "    s0=s1=s2=s3=\"test   \"\n",
    "    do_local()\n",
    "    print(\"after local  :\",s0,s1,s2,s3)\n",
    "    do_nonlocal()\n",
    "    print(\"after nonlocal :\",s0,s1,s2,s3)\n",
    "    do_global()\n",
    "    print(\"after global :\",s0,s1,s2,s3)\n",
    "\n",
    "s0=s1=s2=s3=\"initial\"\n",
    "print(\"in the global    :\",s0,s1,s2,s3)\n",
    "scope_test()\n",
    "print(\"after func call:\",s0,s1,s2,s3)"
   ]
  },
  {
   "cell_type": "code",
   "execution_count": 6,
   "metadata": {
    "tags": []
   },
   "outputs": [
    {
     "output_type": "stream",
     "name": "stdout",
     "text": "in event1: happy->after event1:happy\nin event2: sad  ->after event2:happy\nin event3: tired->after event3:tired\nin event4: excite->after event4:tired\nin evevnt5: scare ->after event5:tired\n"
    }
   ],
   "source": [
    "x='happy'\n",
    "def event1():\n",
    "    print(\"in event1:\",x,end=\"->\")\n",
    "\n",
    "def event2():\n",
    "    x='sad  '\n",
    "    print(\"in event2:\",x,end=\"->\")\n",
    "\n",
    "def event3():\n",
    "    global x\n",
    "    x='tired'\n",
    "    print(\"in event3:\",x,end=\"->\")\n",
    "\n",
    "def event4():\n",
    "    x='excite'\n",
    "    def happening():\n",
    "        print(\"in event4:\",x,end=\"->\")\n",
    "    happening()\n",
    "\n",
    "def event5():\n",
    "    x='fun  '\n",
    "    def happening():\n",
    "        nonlocal x\n",
    "        x='scare '\n",
    "    happening()\n",
    "    print(\"in evevnt5:\",x,end=\"->\")\n",
    "\n",
    "func_list=[event1,event2,event3,event4,event5]\n",
    "for f in func_list:\n",
    "    f()\n",
    "    print(\"after {}:{}\".format(f.__name__,x))"
   ]
  },
  {
   "cell_type": "code",
   "execution_count": null,
   "metadata": {},
   "outputs": [],
   "source": []
  }
 ]
}