{
 "metadata": {
  "language_info": {
   "codemirror_mode": {
    "name": "ipython",
    "version": 3
   },
   "file_extension": ".py",
   "mimetype": "text/x-python",
   "name": "python",
   "nbconvert_exporter": "python",
   "pygments_lexer": "ipython3",
   "version": "3.8.2-final"
  },
  "orig_nbformat": 2,
  "kernelspec": {
   "name": "python_defaultSpec_1598188377791",
   "display_name": "Python 3.8.2 32-bit"
  }
 },
 "nbformat": 4,
 "nbformat_minor": 2,
 "cells": [
  {
   "cell_type": "code",
   "execution_count": 1,
   "metadata": {},
   "outputs": [
    {
     "output_type": "execute_result",
     "data": {
      "text/plain": "8"
     },
     "metadata": {},
     "execution_count": 1
    }
   ],
   "source": [
    "import my_module\n",
    "my_module.func(5)"
   ]
  },
  {
   "cell_type": "code",
   "execution_count": 11,
   "metadata": {
    "tags": []
   },
   "outputs": [
    {
     "output_type": "stream",
     "name": "stdout",
     "text": "a=3,b=5,sum:8\n"
    },
    {
     "output_type": "execute_result",
     "data": {
      "text/plain": "13"
     },
     "metadata": {},
     "execution_count": 11
    }
   ],
   "source": [
    "import my_module1\n",
    "my_class=my_module1.MyClass(3,5)\n",
    "my_class.show_attributes()\n",
    "my_module1.func(10)"
   ]
  },
  {
   "cell_type": "code",
   "execution_count": 2,
   "metadata": {
    "tags": []
   },
   "outputs": [
    {
     "output_type": "stream",
     "name": "stdout",
     "text": "__name__: __main__\na=3,b=5,sum:8\n"
    }
   ],
   "source": [
    "!python my_module2.py"
   ]
  },
  {
   "cell_type": "code",
   "execution_count": 31,
   "metadata": {
    "tags": []
   },
   "outputs": [
    {
     "output_type": "stream",
     "name": "stdout",
     "text": "__name__: __main__\na=3,b=5,sum:8\n"
    }
   ],
   "source": [
    "print(\"__name__:\",__name__)\n",
    "def func(v):\n",
    "    i=v+3\n",
    "    return i\n",
    "\n",
    "class MyClass:\n",
    "    def __init__(self,a=1,b=2):\n",
    "        self.a=a\n",
    "        self.b=b\n",
    "\n",
    "    def show_attributes(self):\n",
    "        print(\"a={},b={},sum:{}\".format(self.a,self.b,self.sum()))\n",
    "\n",
    "    def sum(self):\n",
    "        return self.a+self.b\n",
    "\n",
    "if __name__==\"__main__\":\n",
    "    my_class=MyClass(3,5)\n",
    "    my_class.show_attributes()"
   ]
  },
  {
   "cell_type": "code",
   "execution_count": 32,
   "metadata": {
    "tags": []
   },
   "outputs": [
    {
     "output_type": "stream",
     "name": "stdout",
     "text": "__name__: my_module2\na=3,b=5,sum:8\n"
    }
   ],
   "source": [
    "import my_module2\n",
    "m2=my_module2.MyClass(3,5)\n",
    "m2.show_attributes()"
   ]
  },
  {
   "cell_type": "code",
   "execution_count": 37,
   "metadata": {},
   "outputs": [
    {
     "output_type": "error",
     "ename": "AttributeError",
     "evalue": "module 'my_package.module_a' has no attribute 'func_in_module_under_dir'",
     "traceback": [
      "\u001b[1;31m---------------------------------------------------------------------------\u001b[0m",
      "\u001b[1;31mAttributeError\u001b[0m                            Traceback (most recent call last)",
      "\u001b[1;32m<ipython-input-37-a2f72b2d75a3>\u001b[0m in \u001b[0;36m<module>\u001b[1;34m\u001b[0m\n\u001b[0;32m      1\u001b[0m \u001b[1;32mimport\u001b[0m \u001b[0mmy_package\u001b[0m\u001b[1;33m.\u001b[0m\u001b[0mmodule_a\u001b[0m\u001b[1;33m\u001b[0m\u001b[1;33m\u001b[0m\u001b[0m\n\u001b[0;32m      2\u001b[0m \u001b[1;33m\u001b[0m\u001b[0m\n\u001b[1;32m----> 3\u001b[1;33m \u001b[0mmy_package\u001b[0m\u001b[1;33m.\u001b[0m\u001b[0mmodule_a\u001b[0m\u001b[1;33m.\u001b[0m\u001b[0mfunc_in_module_under_dir\u001b[0m\u001b[1;33m(\u001b[0m\u001b[1;33m)\u001b[0m\u001b[1;33m\u001b[0m\u001b[1;33m\u001b[0m\u001b[0m\n\u001b[0m",
      "\u001b[1;31mAttributeError\u001b[0m: module 'my_package.module_a' has no attribute 'func_in_module_under_dir'"
     ]
    }
   ],
   "source": [
    "import my_package.module_a\n",
    "\n",
    "my_package.module_a.func_in_module_under_dir()"
   ]
  },
  {
   "cell_type": "code",
   "execution_count": 38,
   "metadata": {},
   "outputs": [],
   "source": [
    "with open(\"my_math.py\",\"w\") as f:\n",
    "    f.write(\"\"\"def my_pow(x,y):\n",
    "    return x**y\\n\"\"\")"
   ]
  },
  {
   "cell_type": "code",
   "execution_count": 39,
   "metadata": {},
   "outputs": [
    {
     "output_type": "execute_result",
     "data": {
      "text/plain": "32"
     },
     "metadata": {},
     "execution_count": 39
    }
   ],
   "source": [
    "import my_math\n",
    "my_math.my_pow(2,5)"
   ]
  },
  {
   "cell_type": "code",
   "execution_count": 40,
   "metadata": {},
   "outputs": [
    {
     "output_type": "execute_result",
     "data": {
      "text/plain": "1.4142135623730951"
     },
     "metadata": {},
     "execution_count": 40
    }
   ],
   "source": [
    "my_math.my_pow(2,0.5)"
   ]
  },
  {
   "cell_type": "code",
   "execution_count": 41,
   "metadata": {},
   "outputs": [
    {
     "output_type": "execute_result",
     "data": {
      "text/plain": "(1.2246467991473532e-16+2j)"
     },
     "metadata": {},
     "execution_count": 41
    }
   ],
   "source": [
    "ans=my_math.my_pow(-4,0.5)\n",
    "ans"
   ]
  },
  {
   "cell_type": "code",
   "execution_count": 42,
   "metadata": {
    "tags": []
   },
   "outputs": [
    {
     "output_type": "stream",
     "name": "stdout",
     "text": "実数成分:1.2246467991473532e-16,虚数成分:2.0\n"
    }
   ],
   "source": [
    "print(\"実数成分:{},虚数成分:{}\".format(ans.real,ans.imag))"
   ]
  },
  {
   "cell_type": "code",
   "execution_count": 43,
   "metadata": {},
   "outputs": [],
   "source": [
    "with open(\"my_math2.py\",\"w\") as f:\n",
    "    f.writelines('''def my_pow(x,y):\n",
    "    return x**y\n",
    "if __name__==\"__main__\":\n",
    "    x,y,exp=2,5,32\n",
    "    ans=my_pow(x,y)\n",
    "    print(\"test my_pow({},{})->{},exp:{}----\".format(x,y,ans,exp),end=\"\")\n",
    "    if ans==exp:\n",
    "        print(\"test ok\")\n",
    "    else:\n",
    "        print(\"test fail\")\\n''')"
   ]
  },
  {
   "cell_type": "code",
   "execution_count": 1,
   "metadata": {
    "tags": []
   },
   "outputs": [
    {
     "output_type": "stream",
     "name": "stdout",
     "text": "test my_pow(2,5)->32,exp:32----test ok\n"
    }
   ],
   "source": [
    "! python my_math2.py"
   ]
  },
  {
   "cell_type": "code",
   "execution_count": 46,
   "metadata": {},
   "outputs": [
    {
     "output_type": "execute_result",
     "data": {
      "text/plain": "32"
     },
     "metadata": {},
     "execution_count": 46
    }
   ],
   "source": [
    "import my_math2\n",
    "my_math2.my_pow(2,5)"
   ]
  },
  {
   "cell_type": "code",
   "execution_count": null,
   "metadata": {},
   "outputs": [],
   "source": []
  }
 ]
}