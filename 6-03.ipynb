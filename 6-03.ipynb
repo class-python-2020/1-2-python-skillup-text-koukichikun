{
 "metadata": {
  "language_info": {
   "codemirror_mode": {
    "name": "ipython",
    "version": 3
   },
   "file_extension": ".py",
   "mimetype": "text/x-python",
   "name": "python",
   "nbconvert_exporter": "python",
   "pygments_lexer": "ipython3",
   "version": "3.8.2-final"
  },
  "orig_nbformat": 2,
  "kernelspec": {
   "name": "python_defaultSpec_1598119577186",
   "display_name": "Python 3.8.2 32-bit"
  }
 },
 "nbformat": 4,
 "nbformat_minor": 2,
 "cells": [
  {
   "cell_type": "code",
   "execution_count": 1,
   "metadata": {},
   "outputs": [],
   "source": [
    "class nigiri:\n",
    "    category=\"にぎり\"\n",
    "    top=\"ねた\"\n",
    "    base=\"しゃり\"\n",
    "\n",
    "    def show_attributes(self):\n",
    "        print(\"top:{},base:{},caregory:{}\".format(self.top,self.base,self.category))"
   ]
  },
  {
   "cell_type": "code",
   "execution_count": 2,
   "metadata": {
    "tags": []
   },
   "outputs": [
    {
     "output_type": "stream",
     "name": "stdout",
     "text": "top:ねた,base:しゃり,caregory:にぎり\n"
    }
   ],
   "source": [
    "n1=nigiri()\n",
    "n1.show_attributes()"
   ]
  },
  {
   "cell_type": "code",
   "execution_count": 3,
   "metadata": {},
   "outputs": [],
   "source": [
    "class maguro(nigiri):\n",
    "    pass"
   ]
  },
  {
   "cell_type": "code",
   "execution_count": 4,
   "metadata": {
    "tags": []
   },
   "outputs": [
    {
     "output_type": "stream",
     "name": "stdout",
     "text": "top:ねた,base:しゃり,caregory:にぎり\n"
    }
   ],
   "source": [
    "m1=maguro()\n",
    "m1.show_attributes()\n"
   ]
  },
  {
   "cell_type": "code",
   "execution_count": 5,
   "metadata": {
    "tags": []
   },
   "outputs": [
    {
     "output_type": "stream",
     "name": "stdout",
     "text": "top:まぐろ,base:しゃり,caregory:にぎり\n"
    }
   ],
   "source": [
    "class maguro(nigiri):\n",
    "    top=\"まぐろ\"\n",
    "\n",
    "m3=maguro()\n",
    "m3.show_attributes()"
   ]
  },
  {
   "cell_type": "code",
   "execution_count": 6,
   "metadata": {
    "tags": []
   },
   "outputs": [
    {
     "output_type": "stream",
     "name": "stdout",
     "text": "top:まぐろ,base:しゃり,caregory:にぎり\n"
    }
   ],
   "source": [
    "class maguro(nigiri):\n",
    "    top=\"まぐろ\"\n",
    "    price=100\n",
    "\n",
    "m4=maguro()\n",
    "m4.show_attributes()\n"
   ]
  },
  {
   "cell_type": "code",
   "execution_count": 7,
   "metadata": {
    "tags": []
   },
   "outputs": [
    {
     "output_type": "stream",
     "name": "stdout",
     "text": "bass:しゃり,top:まぐろ\nprice:100円\n"
    }
   ],
   "source": [
    "class maguro(nigiri):\n",
    "    top=\"まぐろ\"\n",
    "    price=100\n",
    "\n",
    "    def show_attributes(self):\n",
    "        print(\"bass:{},top:{}\".format(self.base,self.top))\n",
    "        print(\"price:{}円\".format(self.price))\n",
    "\n",
    "m4=maguro()\n",
    "m4.show_attributes()"
   ]
  },
  {
   "cell_type": "code",
   "execution_count": 9,
   "metadata": {
    "tags": []
   },
   "outputs": [
    {
     "output_type": "stream",
     "name": "stdout",
     "text": "top:まぐろ,base:しゃり,caregory:にぎり\nprice:100円\n"
    }
   ],
   "source": [
    "class maguro(nigiri):\n",
    "    top=\"まぐろ\"\n",
    "    price=100\n",
    "\n",
    "    def show_attributes(self):\n",
    "        super().show_attributes()\n",
    "        print(\"price:{}円\".format(self.price))\n",
    "\n",
    "m5=maguro()\n",
    "m5.show_attributes()"
   ]
  },
  {
   "cell_type": "code",
   "execution_count": 10,
   "metadata": {
    "tags": []
   },
   "outputs": [
    {
     "output_type": "stream",
     "name": "stdout",
     "text": "top:まぐろ,base:しゃり,caregory:にぎり\n1皿(2かん)の値段:200円\n"
    }
   ],
   "source": [
    "class maguro(nigiri):\n",
    "    top=\"まぐろ\"\n",
    "    price=100\n",
    "\n",
    "    def show_attributes(self):\n",
    "        super().show_attributes()\n",
    "\n",
    "    def show_one_dish_price(self,num_nigiri=2):\n",
    "        result=self.price*num_nigiri\n",
    "        print(\"1皿({}かん)の値段:{}円\".format(num_nigiri,result))\n",
    "\n",
    "m5=maguro()\n",
    "m5.show_attributes()\n",
    "m5.show_one_dish_price()\n"
   ]
  },
  {
   "cell_type": "code",
   "execution_count": 11,
   "metadata": {},
   "outputs": [],
   "source": [
    "class nigirinew(nigiri):\n",
    "\n",
    "    def __init__(self,wasabi=\"わさび抜き\"):\n",
    "        self.wasabi=wasabi\n",
    "\n",
    "    def show_attributes(self):\n",
    "        super().show_attributes()\n",
    "        print(\"wasabi:{}\".format(self.wasabi))"
   ]
  },
  {
   "cell_type": "code",
   "execution_count": 12,
   "metadata": {
    "tags": []
   },
   "outputs": [
    {
     "output_type": "stream",
     "name": "stdout",
     "text": "top:まぐろ,base:しゃり,caregory:にぎり\nwasabi:わさび入り\nprice:100円\n"
    }
   ],
   "source": [
    "class maguro(nigirinew):\n",
    "    top=\"まぐろ\"\n",
    "    price=100\n",
    "\n",
    "    def show_attributes(self):\n",
    "        super().show_attributes()\n",
    "        print(\"price:{}円\".format(self.price))\n",
    "\n",
    "m6=maguro(\"わさび入り\")\n",
    "m6.show_attributes()"
   ]
  },
  {
   "cell_type": "code",
   "execution_count": 11,
   "metadata": {},
   "outputs": [
    {
     "output_type": "error",
     "ename": "AttributeError",
     "evalue": "'musicianprogrammer' object has no attribute 'skill'",
     "traceback": [
      "\u001b[1;31m---------------------------------------------------------------------------\u001b[0m",
      "\u001b[1;31mAttributeError\u001b[0m                            Traceback (most recent call last)",
      "\u001b[1;32m<ipython-input-11-a1271651b165>\u001b[0m in \u001b[0;36m<module>\u001b[1;34m\u001b[0m\n\u001b[0;32m     20\u001b[0m \u001b[1;33m\u001b[0m\u001b[0m\n\u001b[0;32m     21\u001b[0m \u001b[1;33m\u001b[0m\u001b[0m\n\u001b[1;32m---> 22\u001b[1;33m \u001b[0mmp1\u001b[0m\u001b[1;33m=\u001b[0m\u001b[0mmusicianprogrammer\u001b[0m\u001b[1;33m(\u001b[0m\u001b[1;33m)\u001b[0m\u001b[1;33m\u001b[0m\u001b[1;33m\u001b[0m\u001b[0m\n\u001b[0m\u001b[0;32m     23\u001b[0m \u001b[0mmp1\u001b[0m\u001b[1;33m.\u001b[0m\u001b[0mmake_code\u001b[0m\u001b[1;33m(\u001b[0m\u001b[1;33m)\u001b[0m\u001b[1;33m\u001b[0m\u001b[1;33m\u001b[0m\u001b[0m\n\u001b[0;32m     24\u001b[0m \u001b[0mmp1\u001b[0m\u001b[1;33m.\u001b[0m\u001b[0mplay_instrument\u001b[0m\u001b[1;33m(\u001b[0m\u001b[1;33m)\u001b[0m\u001b[1;33m\u001b[0m\u001b[1;33m\u001b[0m\u001b[0m\n",
      "\u001b[1;32m<ipython-input-11-a1271651b165>\u001b[0m in \u001b[0;36m__init__\u001b[1;34m(self)\u001b[0m\n\u001b[0;32m     10\u001b[0m     \u001b[1;32mdef\u001b[0m \u001b[0m__init__\u001b[0m\u001b[1;33m(\u001b[0m\u001b[0mself\u001b[0m\u001b[1;33m)\u001b[0m\u001b[1;33m:\u001b[0m\u001b[1;33m\u001b[0m\u001b[1;33m\u001b[0m\u001b[0m\n\u001b[0;32m     11\u001b[0m         \u001b[0mself\u001b[0m\u001b[1;33m.\u001b[0m\u001b[0mskil\u001b[0m\u001b[1;33m=\u001b[0m\u001b[1;34m\"リズム・メロディー・ハーモニー\"\u001b[0m\u001b[1;33m\u001b[0m\u001b[1;33m\u001b[0m\u001b[0m\n\u001b[1;32m---> 12\u001b[1;33m         \u001b[0mprint\u001b[0m\u001b[1;33m(\u001b[0m\u001b[1;34m'musician'\u001b[0m\u001b[1;33m,\u001b[0m\u001b[0mself\u001b[0m\u001b[1;33m.\u001b[0m\u001b[0mskill\u001b[0m\u001b[1;33m)\u001b[0m\u001b[1;33m\u001b[0m\u001b[1;33m\u001b[0m\u001b[0m\n\u001b[0m\u001b[0;32m     13\u001b[0m \u001b[1;33m\u001b[0m\u001b[0m\n\u001b[0;32m     14\u001b[0m     \u001b[1;32mdef\u001b[0m \u001b[0mplay_instrument\u001b[0m\u001b[1;33m(\u001b[0m\u001b[0mself\u001b[0m\u001b[1;33m)\u001b[0m\u001b[1;33m:\u001b[0m\u001b[1;33m\u001b[0m\u001b[1;33m\u001b[0m\u001b[0m\n",
      "\u001b[1;31mAttributeError\u001b[0m: 'musicianprogrammer' object has no attribute 'skill'"
     ]
    }
   ],
   "source": [
    "class programmer:\n",
    "    def __init__(self):\n",
    "        self.skill=\"プログラミング\"\n",
    "        print('programmer',self.skill)\n",
    "\n",
    "    def make_code(self):\n",
    "        print(\"コードを書く\")\n",
    "\n",
    "class musician:\n",
    "    def __init__(self):\n",
    "        self.skil=\"リズム・メロディー・ハーモニー\"\n",
    "        print('musician',self.skill)\n",
    "\n",
    "    def play_instrument(self):\n",
    "        print(\"楽器を演奏する\")\n",
    "\n",
    "\n",
    "class musicianprogrammer(musician,programmer):\n",
    "    pass\n",
    "\n",
    "\n",
    "mp1=musicianprogrammer()\n",
    "mp1.make_code()\n",
    "mp1.play_instrument()"
   ]
  },
  {
   "cell_type": "code",
   "execution_count": 10,
   "metadata": {
    "tags": []
   },
   "outputs": [
    {
     "output_type": "stream",
     "name": "stdout",
     "text": "programmer プログラミング\nコードを書く\n楽器を演奏する\n"
    }
   ],
   "source": [
    "class programmermusician(programmer,musician):\n",
    "    pass\n",
    "\n",
    "pm1=programmermusician()\n",
    "pm1.make_code()\n",
    "pm1.play_instrument()"
   ]
  },
  {
   "cell_type": "code",
   "execution_count": 5,
   "metadata": {},
   "outputs": [
    {
     "output_type": "error",
     "ename": "NameError",
     "evalue": "name 'nigiri' is not defined",
     "traceback": [
      "\u001b[1;31m---------------------------------------------------------------------------\u001b[0m",
      "\u001b[1;31mNameError\u001b[0m                                 Traceback (most recent call last)",
      "\u001b[1;32m<ipython-input-5-53dcc9182cf2>\u001b[0m in \u001b[0;36m<module>\u001b[1;34m\u001b[0m\n\u001b[1;32m----> 1\u001b[1;33m \u001b[1;32mclass\u001b[0m \u001b[0mkatsuo\u001b[0m\u001b[1;33m(\u001b[0m\u001b[0mnigiri\u001b[0m\u001b[1;33m)\u001b[0m\u001b[1;33m:\u001b[0m\u001b[1;33m\u001b[0m\u001b[1;33m\u001b[0m\u001b[0m\n\u001b[0m\u001b[0;32m      2\u001b[0m     \u001b[0mtop\u001b[0m\u001b[1;33m=\u001b[0m\u001b[1;33m(\u001b[0m\u001b[1;34m\"かつお\"\u001b[0m\u001b[1;33m)\u001b[0m\u001b[1;33m\u001b[0m\u001b[1;33m\u001b[0m\u001b[0m\n\u001b[0;32m      3\u001b[0m     \u001b[0mtopping\u001b[0m\u001b[1;33m=\u001b[0m\u001b[1;34m\"生姜とネギ\"\u001b[0m\u001b[1;33m\u001b[0m\u001b[1;33m\u001b[0m\u001b[0m\n\u001b[0;32m      4\u001b[0m     \u001b[0mprice\u001b[0m\u001b[1;33m=\u001b[0m\u001b[1;36m100\u001b[0m\u001b[1;33m\u001b[0m\u001b[1;33m\u001b[0m\u001b[0m\n\u001b[0;32m      5\u001b[0m \u001b[1;33m\u001b[0m\u001b[0m\n",
      "\u001b[1;31mNameError\u001b[0m: name 'nigiri' is not defined"
     ]
    }
   ],
   "source": [
    "class katsuo(nigiri):\n",
    "    top=(\"かつお\")\n",
    "    topping=\"生姜とネギ\"\n",
    "    price=100\n",
    "\n",
    "    def show_attributes(self):\n",
    "        super().show_attributes()\n",
    "        print(\"topping:{}\".format(self.topping))"
   ]
  },
  {
   "cell_type": "code",
   "execution_count": 4,
   "metadata": {},
   "outputs": [
    {
     "output_type": "error",
     "ename": "NameError",
     "evalue": "name 'katsuo' is not defined",
     "traceback": [
      "\u001b[1;31m---------------------------------------------------------------------------\u001b[0m",
      "\u001b[1;31mNameError\u001b[0m                                 Traceback (most recent call last)",
      "\u001b[1;32m<ipython-input-4-1c22066545e9>\u001b[0m in \u001b[0;36m<module>\u001b[1;34m\u001b[0m\n\u001b[1;32m----> 1\u001b[1;33m \u001b[0mk1\u001b[0m\u001b[1;33m=\u001b[0m\u001b[0mkatsuo\u001b[0m\u001b[1;33m(\u001b[0m\u001b[1;33m)\u001b[0m\u001b[1;33m\u001b[0m\u001b[1;33m\u001b[0m\u001b[0m\n\u001b[0m\u001b[0;32m      2\u001b[0m \u001b[0mk1\u001b[0m\u001b[1;33m.\u001b[0m\u001b[0mshow_attributes\u001b[0m\u001b[1;33m(\u001b[0m\u001b[1;33m)\u001b[0m\u001b[1;33m\u001b[0m\u001b[1;33m\u001b[0m\u001b[0m\n",
      "\u001b[1;31mNameError\u001b[0m: name 'katsuo' is not defined"
     ]
    }
   ],
   "source": [
    "k1=katsuo()\n",
    "k1.show_attributes()"
   ]
  },
  {
   "cell_type": "code",
   "execution_count": 3,
   "metadata": {},
   "outputs": [
    {
     "output_type": "error",
     "ename": "AttributeError",
     "evalue": "'rectangle' object has no attribute 'calc_perimeter'",
     "traceback": [
      "\u001b[1;31m---------------------------------------------------------------------------\u001b[0m",
      "\u001b[1;31mAttributeError\u001b[0m                            Traceback (most recent call last)",
      "\u001b[1;32m<ipython-input-3-907e374c4e48>\u001b[0m in \u001b[0;36m<module>\u001b[1;34m\u001b[0m\n\u001b[0;32m     30\u001b[0m         \u001b[0mprint\u001b[0m\u001b[1;33m(\u001b[0m\u001b[1;34m\"perimeter:{},area:{}\"\u001b[0m\u001b[1;33m.\u001b[0m\u001b[0mformat\u001b[0m\u001b[1;33m(\u001b[0m\u001b[0mp\u001b[0m\u001b[1;33m,\u001b[0m\u001b[0ma\u001b[0m\u001b[1;33m)\u001b[0m\u001b[1;33m)\u001b[0m\u001b[1;33m\u001b[0m\u001b[1;33m\u001b[0m\u001b[0m\n\u001b[0;32m     31\u001b[0m \u001b[1;33m\u001b[0m\u001b[0m\n\u001b[1;32m---> 32\u001b[1;33m \u001b[0mr1\u001b[0m\u001b[1;33m=\u001b[0m\u001b[0mrectangle\u001b[0m\u001b[1;33m(\u001b[0m\u001b[1;36m4\u001b[0m\u001b[1;33m,\u001b[0m\u001b[1;36m3\u001b[0m\u001b[1;33m)\u001b[0m\u001b[1;33m\u001b[0m\u001b[1;33m\u001b[0m\u001b[0m\n\u001b[0m\u001b[0;32m     33\u001b[0m \u001b[0mr1\u001b[0m\u001b[1;33m.\u001b[0m\u001b[0mshow_attributes\u001b[0m\u001b[1;33m(\u001b[0m\u001b[1;33m)\u001b[0m\u001b[1;33m\u001b[0m\u001b[1;33m\u001b[0m\u001b[0m\n",
      "\u001b[1;32m<ipython-input-3-907e374c4e48>\u001b[0m in \u001b[0;36m__init__\u001b[1;34m(self, width, height)\u001b[0m\n\u001b[0;32m      7\u001b[0m         \u001b[0mself\u001b[0m\u001b[1;33m.\u001b[0m\u001b[0mwidth\u001b[0m\u001b[1;33m=\u001b[0m\u001b[0mwidth\u001b[0m\u001b[1;33m\u001b[0m\u001b[1;33m\u001b[0m\u001b[0m\n\u001b[0;32m      8\u001b[0m         \u001b[0mself\u001b[0m\u001b[1;33m.\u001b[0m\u001b[0mheight\u001b[0m\u001b[1;33m=\u001b[0m\u001b[0mheight\u001b[0m\u001b[1;33m\u001b[0m\u001b[1;33m\u001b[0m\u001b[0m\n\u001b[1;32m----> 9\u001b[1;33m         \u001b[0mself\u001b[0m\u001b[1;33m.\u001b[0m\u001b[0mperimeter\u001b[0m\u001b[1;33m=\u001b[0m\u001b[0mself\u001b[0m\u001b[1;33m.\u001b[0m\u001b[0mcalc_perimeter\u001b[0m\u001b[1;33m(\u001b[0m\u001b[1;33m)\u001b[0m\u001b[1;33m\u001b[0m\u001b[1;33m\u001b[0m\u001b[0m\n\u001b[0m\u001b[0;32m     10\u001b[0m         \u001b[0mself\u001b[0m\u001b[1;33m.\u001b[0m\u001b[0marea\u001b[0m\u001b[1;33m=\u001b[0m\u001b[0mself\u001b[0m\u001b[1;33m.\u001b[0m\u001b[0mcalc_area\u001b[0m\u001b[1;33m(\u001b[0m\u001b[1;33m)\u001b[0m\u001b[1;33m\u001b[0m\u001b[1;33m\u001b[0m\u001b[0m\n\u001b[0;32m     11\u001b[0m \u001b[1;33m\u001b[0m\u001b[0m\n",
      "\u001b[1;31mAttributeError\u001b[0m: 'rectangle' object has no attribute 'calc_perimeter'"
     ]
    }
   ],
   "source": [
    "class rectangle:\n",
    "    '''長方形'''\n",
    "    angle=90\n",
    "\n",
    "    def __init__(self,width,height):\n",
    "        self.name='rectangle'\n",
    "        self.width=width\n",
    "        self.height=height\n",
    "        self.perimeter=self.calc_perimeter()\n",
    "        self.area=self.calc_area()\n",
    "\n",
    "    def calc_perimter(self):\n",
    "        w=self.width\n",
    "        h=self.height\n",
    "        return (w+h)*2\n",
    "\n",
    "    def calc_area(self):\n",
    "        w=self.width\n",
    "        h=self.height\n",
    "        return w*h\n",
    "\n",
    "    def show_attributes(self):\n",
    "        ang=self.angle\n",
    "        n=self.name\n",
    "        w=self.width\n",
    "        h=self.height\n",
    "        p=self.perimeter\n",
    "        a=self.area\n",
    "        print(\"name:{},width:{},height:{},angle:{}\".format(n,w,h,ang))\n",
    "        print(\"perimeter:{},area:{}\".format(p,a))\n",
    "\n",
    "r1=rectangle(4,3)\n",
    "r1.show_attributes()"
   ]
  },
  {
   "cell_type": "code",
   "execution_count": 4,
   "metadata": {},
   "outputs": [],
   "source": [
    "class square(rectangle):\n",
    "    '''正方形'''\n",
    "\n",
    "    def __init__(self,width):\n",
    "        super().__init__(width,width)\n",
    "        self.name='square'"
   ]
  },
  {
   "cell_type": "code",
   "execution_count": 5,
   "metadata": {},
   "outputs": [
    {
     "output_type": "error",
     "ename": "AttributeError",
     "evalue": "'square' object has no attribute 'calc_perimeter'",
     "traceback": [
      "\u001b[1;31m---------------------------------------------------------------------------\u001b[0m",
      "\u001b[1;31mAttributeError\u001b[0m                            Traceback (most recent call last)",
      "\u001b[1;32m<ipython-input-5-a8ef1916df5e>\u001b[0m in \u001b[0;36m<module>\u001b[1;34m\u001b[0m\n\u001b[1;32m----> 1\u001b[1;33m \u001b[0ms1\u001b[0m\u001b[1;33m=\u001b[0m\u001b[0msquare\u001b[0m\u001b[1;33m(\u001b[0m\u001b[1;36m4\u001b[0m\u001b[1;33m)\u001b[0m\u001b[1;33m\u001b[0m\u001b[1;33m\u001b[0m\u001b[0m\n\u001b[0m\u001b[0;32m      2\u001b[0m \u001b[0ms1\u001b[0m\u001b[1;33m.\u001b[0m\u001b[0mshow_attributes\u001b[0m\u001b[1;33m(\u001b[0m\u001b[1;33m)\u001b[0m\u001b[1;33m\u001b[0m\u001b[1;33m\u001b[0m\u001b[0m\n",
      "\u001b[1;32m<ipython-input-4-ae67088a61b6>\u001b[0m in \u001b[0;36m__init__\u001b[1;34m(self, width)\u001b[0m\n\u001b[0;32m      3\u001b[0m \u001b[1;33m\u001b[0m\u001b[0m\n\u001b[0;32m      4\u001b[0m     \u001b[1;32mdef\u001b[0m \u001b[0m__init__\u001b[0m\u001b[1;33m(\u001b[0m\u001b[0mself\u001b[0m\u001b[1;33m,\u001b[0m\u001b[0mwidth\u001b[0m\u001b[1;33m)\u001b[0m\u001b[1;33m:\u001b[0m\u001b[1;33m\u001b[0m\u001b[1;33m\u001b[0m\u001b[0m\n\u001b[1;32m----> 5\u001b[1;33m         \u001b[0msuper\u001b[0m\u001b[1;33m(\u001b[0m\u001b[1;33m)\u001b[0m\u001b[1;33m.\u001b[0m\u001b[0m__init__\u001b[0m\u001b[1;33m(\u001b[0m\u001b[0mwidth\u001b[0m\u001b[1;33m,\u001b[0m\u001b[0mwidth\u001b[0m\u001b[1;33m)\u001b[0m\u001b[1;33m\u001b[0m\u001b[1;33m\u001b[0m\u001b[0m\n\u001b[0m\u001b[0;32m      6\u001b[0m         \u001b[0mself\u001b[0m\u001b[1;33m.\u001b[0m\u001b[0mname\u001b[0m\u001b[1;33m=\u001b[0m\u001b[1;34m'square'\u001b[0m\u001b[1;33m\u001b[0m\u001b[1;33m\u001b[0m\u001b[0m\n",
      "\u001b[1;32m<ipython-input-3-907e374c4e48>\u001b[0m in \u001b[0;36m__init__\u001b[1;34m(self, width, height)\u001b[0m\n\u001b[0;32m      7\u001b[0m         \u001b[0mself\u001b[0m\u001b[1;33m.\u001b[0m\u001b[0mwidth\u001b[0m\u001b[1;33m=\u001b[0m\u001b[0mwidth\u001b[0m\u001b[1;33m\u001b[0m\u001b[1;33m\u001b[0m\u001b[0m\n\u001b[0;32m      8\u001b[0m         \u001b[0mself\u001b[0m\u001b[1;33m.\u001b[0m\u001b[0mheight\u001b[0m\u001b[1;33m=\u001b[0m\u001b[0mheight\u001b[0m\u001b[1;33m\u001b[0m\u001b[1;33m\u001b[0m\u001b[0m\n\u001b[1;32m----> 9\u001b[1;33m         \u001b[0mself\u001b[0m\u001b[1;33m.\u001b[0m\u001b[0mperimeter\u001b[0m\u001b[1;33m=\u001b[0m\u001b[0mself\u001b[0m\u001b[1;33m.\u001b[0m\u001b[0mcalc_perimeter\u001b[0m\u001b[1;33m(\u001b[0m\u001b[1;33m)\u001b[0m\u001b[1;33m\u001b[0m\u001b[1;33m\u001b[0m\u001b[0m\n\u001b[0m\u001b[0;32m     10\u001b[0m         \u001b[0mself\u001b[0m\u001b[1;33m.\u001b[0m\u001b[0marea\u001b[0m\u001b[1;33m=\u001b[0m\u001b[0mself\u001b[0m\u001b[1;33m.\u001b[0m\u001b[0mcalc_area\u001b[0m\u001b[1;33m(\u001b[0m\u001b[1;33m)\u001b[0m\u001b[1;33m\u001b[0m\u001b[1;33m\u001b[0m\u001b[0m\n\u001b[0;32m     11\u001b[0m \u001b[1;33m\u001b[0m\u001b[0m\n",
      "\u001b[1;31mAttributeError\u001b[0m: 'square' object has no attribute 'calc_perimeter'"
     ]
    }
   ],
   "source": [
    "s1=square(4)\n",
    "s1.show_attributes()"
   ]
  },
  {
   "cell_type": "code",
   "execution_count": 7,
   "metadata": {
    "tags": []
   },
   "outputs": [
    {
     "output_type": "stream",
     "name": "stdout",
     "text": "name:square,width:4,height:4,angle:90\nperimeter:16,area:16\n"
    }
   ],
   "source": [
    "class square(rectangle):\n",
    "    '''正方形'''\n",
    "\n",
    "    def __init__(self,width):\n",
    "        self.name='square'\n",
    "        self.width=width\n",
    "        self.height=width\n",
    "        self.perimeter=self.calc_perimter()\n",
    "        self.area=self.calc_area()\n",
    "\n",
    "s2=square(4)\n",
    "s2.show_attributes()"
   ]
  },
  {
   "cell_type": "code",
   "execution_count": null,
   "metadata": {},
   "outputs": [],
   "source": []
  }
 ]
}