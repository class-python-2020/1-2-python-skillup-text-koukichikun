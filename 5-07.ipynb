{
 "metadata": {
  "language_info": {
   "codemirror_mode": {
    "name": "ipython",
    "version": 3
   },
   "file_extension": ".py",
   "mimetype": "text/x-python",
   "name": "python",
   "nbconvert_exporter": "python",
   "pygments_lexer": "ipython3",
   "version": "3.8.2-final"
  },
  "orig_nbformat": 2,
  "kernelspec": {
   "name": "python_defaultSpec_1597939172505",
   "display_name": "Python 3.8.2 32-bit"
  }
 },
 "nbformat": 4,
 "nbformat_minor": 2,
 "cells": [
  {
   "cell_type": "code",
   "execution_count": 1,
   "metadata": {},
   "outputs": [
    {
     "output_type": "execute_result",
     "data": {
      "text/plain": "{1: 'hokkaido', 2: 'aomori', 3: 'iwate'}"
     },
     "metadata": {},
     "execution_count": 1
    }
   ],
   "source": [
    "prefecture_of_japan={1:'hokkaido',2:'aomori',3:'iwate'}\n",
    "prefecture_of_japan"
   ]
  },
  {
   "cell_type": "code",
   "execution_count": 3,
   "metadata": {},
   "outputs": [
    {
     "output_type": "execute_result",
     "data": {
      "text/plain": "'hokkaido'"
     },
     "metadata": {},
     "execution_count": 3
    }
   ],
   "source": [
    "prefecture_of_japan[1]"
   ]
  },
  {
   "cell_type": "code",
   "execution_count": 4,
   "metadata": {
    "tags": []
   },
   "outputs": [
    {
     "output_type": "stream",
     "name": "stdout",
     "text": "None\n"
    }
   ],
   "source": [
    "print(prefecture_of_japan.get(0))"
   ]
  },
  {
   "cell_type": "code",
   "execution_count": 6,
   "metadata": {
    "tags": []
   },
   "outputs": [
    {
     "output_type": "stream",
     "name": "stdout",
     "text": "hokkaido\n"
    }
   ],
   "source": [
    "print(prefecture_of_japan.get(1))"
   ]
  },
  {
   "cell_type": "code",
   "execution_count": 7,
   "metadata": {
    "tags": []
   },
   "outputs": [
    {
     "output_type": "stream",
     "name": "stdout",
     "text": "not found\n"
    }
   ],
   "source": [
    "print(prefecture_of_japan.get(0,'not found'))"
   ]
  },
  {
   "cell_type": "code",
   "execution_count": 8,
   "metadata": {},
   "outputs": [
    {
     "output_type": "execute_result",
     "data": {
      "text/plain": "{1: 'hokkaido', 2: 'aomori', 3: 'iwate', 4: 'miyagi'}"
     },
     "metadata": {},
     "execution_count": 8
    }
   ],
   "source": [
    "prefecture_of_japan[4]='miyagi'\n",
    "prefecture_of_japan"
   ]
  },
  {
   "cell_type": "code",
   "execution_count": 9,
   "metadata": {},
   "outputs": [
    {
     "output_type": "execute_result",
     "data": {
      "text/plain": "True"
     },
     "metadata": {},
     "execution_count": 9
    }
   ],
   "source": [
    "1 in prefecture_of_japan"
   ]
  },
  {
   "cell_type": "code",
   "execution_count": 10,
   "metadata": {},
   "outputs": [
    {
     "output_type": "execute_result",
     "data": {
      "text/plain": "{1: 'hokkaido', 2: 'aomori', 3: 'iwate'}"
     },
     "metadata": {},
     "execution_count": 10
    }
   ],
   "source": [
    "del prefecture_of_japan[4]\n",
    "prefecture_of_japan"
   ]
  },
  {
   "cell_type": "code",
   "execution_count": 12,
   "metadata": {},
   "outputs": [
    {
     "output_type": "execute_result",
     "data": {
      "text/plain": "'iwate'"
     },
     "metadata": {},
     "execution_count": 12
    }
   ],
   "source": [
    "prefecture_of_japan.pop(3)"
   ]
  },
  {
   "cell_type": "code",
   "execution_count": 13,
   "metadata": {},
   "outputs": [
    {
     "output_type": "execute_result",
     "data": {
      "text/plain": "{1: 'hokkaido', 2: 'aomori'}"
     },
     "metadata": {},
     "execution_count": 13
    }
   ],
   "source": [
    "prefecture_of_japan"
   ]
  },
  {
   "cell_type": "code",
   "execution_count": 14,
   "metadata": {},
   "outputs": [
    {
     "output_type": "execute_result",
     "data": {
      "text/plain": "{}"
     },
     "metadata": {},
     "execution_count": 14
    }
   ],
   "source": [
    "prefecture_of_japan.clear()\n",
    "prefecture_of_japan"
   ]
  },
  {
   "cell_type": "code",
   "execution_count": 15,
   "metadata": {
    "tags": []
   },
   "outputs": [
    {
     "output_type": "stream",
     "name": "stdout",
     "text": "1\n2\n3\n"
    }
   ],
   "source": [
    "prefecture_of_japan={1:'hokkaido',2:'aomori',3:'iwate'}\n",
    "for x in prefecture_of_japan:\n",
    "    print(x)"
   ]
  },
  {
   "cell_type": "code",
   "execution_count": 16,
   "metadata": {
    "tags": []
   },
   "outputs": [
    {
     "output_type": "stream",
     "name": "stdout",
     "text": "1\n2\n3\n"
    }
   ],
   "source": [
    "for x in prefecture_of_japan.keys():\n",
    "    print(x)"
   ]
  },
  {
   "cell_type": "code",
   "execution_count": 17,
   "metadata": {
    "tags": []
   },
   "outputs": [
    {
     "output_type": "stream",
     "name": "stdout",
     "text": "1\n2\n3\n"
    }
   ],
   "source": [
    "for x in prefecture_of_japan.keys():\n",
    "    print(x)"
   ]
  },
  {
   "cell_type": "code",
   "execution_count": 18,
   "metadata": {
    "tags": []
   },
   "outputs": [
    {
     "output_type": "stream",
     "name": "stdout",
     "text": "hokkaido\naomori\niwate\n"
    }
   ],
   "source": [
    "for x in prefecture_of_japan.values():\n",
    "    print(x)"
   ]
  },
  {
   "cell_type": "code",
   "execution_count": 19,
   "metadata": {
    "tags": []
   },
   "outputs": [
    {
     "output_type": "stream",
     "name": "stdout",
     "text": "1 hokkaido\n2 aomori\n3 iwate\n"
    }
   ],
   "source": [
    "for key, x in prefecture_of_japan.items():\n",
    "    print(key,x)"
   ]
  },
  {
   "cell_type": "code",
   "execution_count": 20,
   "metadata": {},
   "outputs": [
    {
     "output_type": "execute_result",
     "data": {
      "text/plain": "{1: 'hokkaido', 2: 'aomori', 3: 'iwate'}"
     },
     "metadata": {},
     "execution_count": 20
    }
   ],
   "source": [
    "list1=[1,2,3]\n",
    "list2=['hokkaido','aomori','iwate']\n",
    "dict(zip(list1,list2))"
   ]
  },
  {
   "cell_type": "code",
   "execution_count": 21,
   "metadata": {
    "tags": []
   },
   "outputs": [
    {
     "output_type": "stream",
     "name": "stdout",
     "text": "tokyo\nyuurakuchou\nshinbashi\n"
    }
   ],
   "source": [
    "yamanote_line={0:'tokyo',1:'yuurakuchou',2:'shinbashi'}\n",
    "for v in yamanote_line.values():\n",
    "    print(v)"
   ]
  },
  {
   "cell_type": "code",
   "execution_count": 22,
   "metadata": {},
   "outputs": [
    {
     "output_type": "execute_result",
     "data": {
      "text/plain": "[['0001', 'male', 'yamada', 'tarou', 25, 'tokyo'],\n ['0002', 'male', 'satou', 'takeshi', 27, 'kanagawa'],\n ['0003', 'female', 'tanaka', 'yuko', 25, 'saitama'],\n ['0004', 'male', 'suzuki', 'ichirou', '35', 'hokkaido']]"
     },
     "metadata": {},
     "execution_count": 22
    }
   ],
   "source": [
    "data=[\n",
    "    ['0001','male','yamada','tarou',25,'tokyo'],\n",
    "    ['0002','male','satou','takeshi',27,'kanagawa'],\n",
    "    ['0003','female','tanaka','yuko',25,'saitama'],\n",
    "    ['0004','male','suzuki','ichirou','35','hokkaido']\n",
    "]\n",
    "data"
   ]
  },
  {
   "cell_type": "code",
   "execution_count": 23,
   "metadata": {},
   "outputs": [],
   "source": [
    "member_infomation={}\n",
    "\n",
    "for record in data:\n",
    "    key=record[0]\n",
    "    info=record[1:]\n",
    "    member_infomation[key]=info"
   ]
  },
  {
   "cell_type": "code",
   "execution_count": 24,
   "metadata": {
    "tags": []
   },
   "outputs": [
    {
     "output_type": "stream",
     "name": "stdout",
     "text": "number\tinfomation\n0001 ['male', 'yamada', 'tarou', 25, 'tokyo']\n0002 ['male', 'satou', 'takeshi', 27, 'kanagawa']\n0003 ['female', 'tanaka', 'yuko', 25, 'saitama']\n0004 ['male', 'suzuki', 'ichirou', '35', 'hokkaido']\n"
    }
   ],
   "source": [
    "print('number','infomation',sep='\\t')\n",
    "for key,info in member_infomation.items():\n",
    "    print(key,info)"
   ]
  },
  {
   "cell_type": "code",
   "execution_count": null,
   "metadata": {},
   "outputs": [],
   "source": []
  }
 ]
}